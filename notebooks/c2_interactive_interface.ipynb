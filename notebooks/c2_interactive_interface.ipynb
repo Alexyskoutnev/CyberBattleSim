{
 "cells": [
  {
   "cell_type": "markdown",
   "metadata": {},
   "source": [
    "Copyright (c) Microsoft Corporation. All rights reserved. Licensed under the MIT License.\n",
    "\n",
    "# Command and Control interface\n",
    "This notebooks shows how to interact with the command&control server to observe the environment and initiate actions on the nodes where the attacker client is installed."
   ]
  },
  {
   "cell_type": "code",
   "execution_count": 9,
   "metadata": {},
   "outputs": [
    {
     "data": {
      "text/html": [
       "        <script type=\"text/javascript\">\n",
       "        window.PlotlyConfig = {MathJaxConfig: 'local'};\n",
       "        if (window.MathJax) {MathJax.Hub.Config({SVG: {font: \"STIX-Web\"}});}\n",
       "        if (typeof require !== 'undefined') {\n",
       "        require.undef(\"plotly\");\n",
       "        requirejs.config({\n",
       "            paths: {\n",
       "                'plotly': ['https://cdn.plot.ly/plotly-latest.min']\n",
       "            }\n",
       "        });\n",
       "        require(['plotly'], function(Plotly) {\n",
       "            window._Plotly = Plotly;\n",
       "        });\n",
       "        }\n",
       "        </script>\n",
       "        "
      ]
     },
     "metadata": {},
     "output_type": "display_data"
    }
   ],
   "source": [
    "import networkx as nx\n",
    "from tabulate import tabulate\n",
    "import cyberbattle.simulation.model as model\n",
    "import cyberbattle.simulation.actions as actions\n",
    "import cyberbattle.simulation.commandcontrol as commandcontrol\n",
    "import importlib\n",
    "importlib.reload(model)\n",
    "importlib.reload(actions)\n",
    "importlib.reload(commandcontrol)\n",
    "import plotly.offline as plo\n",
    "plo.init_notebook_mode(connected=True)"
   ]
  },
  {
   "cell_type": "markdown",
   "metadata": {},
   "source": [
    "We first create a simulation environment from a randomly generated network graph."
   ]
  },
  {
   "cell_type": "code",
   "execution_count": 10,
   "metadata": {},
   "outputs": [],
   "source": [
    "g = nx.erdos_renyi_graph(35,0.05,directed=True)\n",
    "g = model.assign_random_labels(g)\n",
    "env = model.Environment(network=g, vulnerability_library=dict([]), identifiers=model.SAMPLE_IDENTIFIERS)\n"
   ]
  },
  {
   "cell_type": "markdown",
   "metadata": {},
   "source": [
    "We create the `CommandControl` object used to the environment and execute actions, and plot the graph explored so far.\n"
   ]
  },
  {
   "cell_type": "code",
   "execution_count": 11,
   "metadata": {},
   "outputs": [],
   "source": [
    "c = commandcontrol.CommandControl(env)"
   ]
  },
  {
   "cell_type": "code",
   "execution_count": 12,
   "metadata": {
    "tags": []
   },
   "outputs": [
    {
     "name": "stdout",
     "output_type": "stream",
     "text": [
      "Nodes disovered so far: [{'id': '17', 'status': 'owned'}]\n"
     ]
    }
   ],
   "source": [
    "c.plot_nodes()\n",
    "print(\"Nodes disovered so far: \" + str(c.list_nodes()))\n",
    "starting_node = c.list_nodes()[0]['id']"
   ]
  },
  {
   "cell_type": "markdown",
   "metadata": {},
   "source": [
    "For debugging purpose it's also convient to view the internals of the environment via the `EnvironmentDebugging` object. For instance we can use it to plot the entire graph, including nodes that were not discovered yet by the attacker."
   ]
  },
  {
   "cell_type": "code",
   "execution_count": 13,
   "metadata": {},
   "outputs": [],
   "source": [
    "dbg = commandcontrol.EnvironmentDebugging(c)"
   ]
  },
  {
   "cell_type": "code",
   "execution_count": 14,
   "metadata": {
    "tags": []
   },
   "outputs": [],
   "source": [
    "# env.plot_environment_graph()\n",
    "# print(nx.info(env.network))"
   ]
  },
  {
   "cell_type": "code",
   "execution_count": 15,
   "metadata": {
    "tags": []
   },
   "outputs": [
    {
     "name": "stdout",
     "output_type": "stream",
     "text": [
      "  id  status    properties                                               local_attacks    remote_attacks\n",
      "----  --------  -------------------------------------------------------  ---------------  ----------------\n",
      "  17  owned     ['Windows', 'GuestAccountEnabled', 'Win10', 'Azure-VM']  []               []\n"
     ]
    }
   ],
   "source": [
    "print(tabulate(c.list_all_attacks(),{}))"
   ]
  },
  {
   "cell_type": "code",
   "execution_count": 16,
   "metadata": {},
   "outputs": [],
   "source": [
    "outcome = c.run_attack(starting_node, 'RecentlyAccessedMachines')\n",
    "outcome"
   ]
  },
  {
   "cell_type": "code",
   "execution_count": 17,
   "metadata": {},
   "outputs": [],
   "source": [
    "c.plot_nodes()"
   ]
  },
  {
   "cell_type": "code",
   "execution_count": 18,
   "metadata": {
    "tags": []
   },
   "outputs": [
    {
     "name": "stdout",
     "output_type": "stream",
     "text": [
      "  id  status\n",
      "----  --------\n",
      "  17  owned\n"
     ]
    }
   ],
   "source": [
    "print(tabulate(c.list_nodes(),{}))"
   ]
  },
  {
   "cell_type": "code",
   "execution_count": 19,
   "metadata": {
    "tags": []
   },
   "outputs": [
    {
     "name": "stdout",
     "output_type": "stream",
     "text": [
      "  id  status    properties                                               local_attacks    remote_attacks\n",
      "----  --------  -------------------------------------------------------  ---------------  ----------------\n",
      "  17  owned     ['Windows', 'GuestAccountEnabled', 'Win10', 'Azure-VM']  []               []\n"
     ]
    }
   ],
   "source": [
    "print(tabulate(c.list_all_attacks(),{}))"
   ]
  }
 ],
 "metadata": {
  "kernelspec": {
   "display_name": "Python 3.9.18",
   "language": "python",
   "name": "python3"
  },
  "language_info": {
   "codemirror_mode": {
    "name": "ipython",
    "version": 3
   },
   "file_extension": ".py",
   "mimetype": "text/x-python",
   "name": "python",
   "nbconvert_exporter": "python",
   "pygments_lexer": "ipython3",
   "version": "3.9.18"
  },
  "vscode": {
   "interpreter": {
    "hash": "5f742c261b96c8b3cf5c99a3df65ca7b6f6928b5e4648bbbd140924f2909fdea"
   }
  }
 },
 "nbformat": 4,
 "nbformat_minor": 4
}

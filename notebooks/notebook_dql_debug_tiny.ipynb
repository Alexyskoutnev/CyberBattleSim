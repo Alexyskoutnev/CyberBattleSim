{
 "cells": [
  {
   "cell_type": "code",
   "execution_count": 1,
   "id": "nearby-economics",
   "metadata": {
    "execution": {
     "iopub.execute_input": "2021-09-06T20:23:07.170894Z",
     "iopub.status.busy": "2021-09-06T20:23:07.170317Z",
     "iopub.status.idle": "2021-09-06T20:23:07.175556Z",
     "shell.execute_reply": "2021-09-06T20:23:07.174970Z"
    },
    "papermill": {
     "duration": 0.023582,
     "end_time": "2021-09-06T20:23:07.175709",
     "exception": false,
     "start_time": "2021-09-06T20:23:07.152127",
     "status": "completed"
    },
    "tags": []
   },
   "outputs": [
    {
     "data": {
      "text/plain": [
       "'Notebook used for debugging purpose to train the\\nthe DQL agent and then run it one step at a time.\\n'"
      ]
     },
     "execution_count": 1,
     "metadata": {},
     "output_type": "execute_result"
    }
   ],
   "source": [
    "# Copyright (c) Microsoft Corporation.\n",
    "# Licensed under the MIT License.\n",
    "\n",
    "\"\"\"Notebook used for debugging purpose to train the\n",
    "the DQL agent and then run it one step at a time.\n",
    "\"\"\"\n",
    "\n",
    "# pylint: disable=invalid-name"
   ]
  },
  {
   "cell_type": "code",
   "execution_count": 2,
   "id": "threaded-insight",
   "metadata": {
    "execution": {
     "iopub.execute_input": "2021-09-06T20:23:07.193213Z",
     "iopub.status.busy": "2021-09-06T20:23:07.192580Z",
     "iopub.status.idle": "2021-09-06T20:23:08.410101Z",
     "shell.execute_reply": "2021-09-06T20:23:08.410589Z"
    },
    "papermill": {
     "duration": 1.228105,
     "end_time": "2021-09-06T20:23:08.410746",
     "exception": false,
     "start_time": "2021-09-06T20:23:07.182641",
     "status": "completed"
    },
    "tags": []
   },
   "outputs": [
    {
     "name": "stderr",
     "output_type": "stream",
     "text": [
      "/home/alex/miniconda3/envs/cybersim/lib/python3.9/site-packages/torch/cuda/__init__.py:138: UserWarning: CUDA initialization: The NVIDIA driver on your system is too old (found version 6050). Please update your GPU driver by downloading and installing a new version from the URL: http://www.nvidia.com/Download/index.aspx Alternatively, go to: https://pytorch.org to install a PyTorch version that has been compiled with your version of the CUDA driver. (Triggered internally at ../c10/cuda/CUDAFunctions.cpp:108.)\n",
      "  return torch._C._cuda_getDeviceCount() > 0\n"
     ]
    }
   ],
   "source": [
    "import sys\n",
    "import logging\n",
    "import gym\n",
    "import cyberbattle.agents.baseline.learner as learner\n",
    "import cyberbattle.agents.baseline.agent_wrapper as w\n",
    "import cyberbattle.agents.baseline.agent_dql as dqla\n",
    "from cyberbattle.agents.baseline.agent_wrapper import ActionTrackingStateAugmentation, AgentWrapper, Verbosity\n",
    "logging.basicConfig(stream=sys.stdout, level=logging.ERROR, format=\"%(levelname)s: %(message)s\")"
   ]
  },
  {
   "cell_type": "code",
   "execution_count": 3,
   "id": "functional-planet",
   "metadata": {
    "execution": {
     "iopub.execute_input": "2021-09-06T20:23:08.428585Z",
     "iopub.status.busy": "2021-09-06T20:23:08.428012Z",
     "iopub.status.idle": "2021-09-06T20:23:08.429501Z",
     "shell.execute_reply": "2021-09-06T20:23:08.429993Z"
    },
    "papermill": {
     "duration": 0.012283,
     "end_time": "2021-09-06T20:23:08.430153",
     "exception": false,
     "start_time": "2021-09-06T20:23:08.417870",
     "status": "completed"
    },
    "tags": [
     "parameters"
    ]
   },
   "outputs": [],
   "source": [
    "gymid = 'CyberBattleTiny-v0'\n",
    "iteration_count = 150\n",
    "training_episode_count = 10"
   ]
  },
  {
   "cell_type": "code",
   "execution_count": 4,
   "id": "brief-mortality",
   "metadata": {
    "execution": {
     "iopub.execute_input": "2021-09-06T20:23:08.445062Z",
     "iopub.status.busy": "2021-09-06T20:23:08.444503Z",
     "iopub.status.idle": "2021-09-06T20:23:08.520039Z",
     "shell.execute_reply": "2021-09-06T20:23:08.519444Z"
    },
    "papermill": {
     "duration": 0.083838,
     "end_time": "2021-09-06T20:23:08.520164",
     "exception": false,
     "start_time": "2021-09-06T20:23:08.436326",
     "status": "completed"
    },
    "tags": [
     "injected-parameters"
    ]
   },
   "outputs": [],
   "source": [
    "# Parameters\n",
    "gymid = \"CyberBattleTiny-v0\"\n",
    "iteration_count = 150\n"
   ]
  },
  {
   "cell_type": "code",
   "execution_count": 5,
   "id": "searching-central",
   "metadata": {
    "execution": {
     "iopub.execute_input": "2021-09-06T20:23:08.540243Z",
     "iopub.status.busy": "2021-09-06T20:23:08.539543Z",
     "iopub.status.idle": "2021-09-06T20:23:08.600348Z",
     "shell.execute_reply": "2021-09-06T20:23:08.599805Z"
    },
    "papermill": {
     "duration": 0.074343,
     "end_time": "2021-09-06T20:23:08.600472",
     "exception": false,
     "start_time": "2021-09-06T20:23:08.526129",
     "status": "completed"
    },
    "tags": []
   },
   "outputs": [],
   "source": [
    "# Load the gym environment\n",
    "\n",
    "ctf_env = gym.make(gymid)\n",
    "\n",
    "ep = w.EnvironmentBounds.of_identifiers(\n",
    "    maximum_node_count=12,\n",
    "    maximum_total_credentials=10,\n",
    "    identifiers=ctf_env.identifiers\n",
    ")"
   ]
  },
  {
   "cell_type": "code",
   "execution_count": 6,
   "id": "trained-pottery",
   "metadata": {
    "execution": {
     "iopub.execute_input": "2021-09-06T20:23:08.617499Z",
     "iopub.status.busy": "2021-09-06T20:23:08.616917Z",
     "iopub.status.idle": "2021-09-06T20:23:20.930202Z",
     "shell.execute_reply": "2021-09-06T20:23:20.929564Z"
    },
    "papermill": {
     "duration": 12.32379,
     "end_time": "2021-09-06T20:23:20.930328",
     "exception": false,
     "start_time": "2021-09-06T20:23:08.606538",
     "status": "completed"
    },
    "tags": []
   },
   "outputs": [
    {
     "name": "stdout",
     "output_type": "stream",
     "text": [
      "###### DQL\n",
      "Learning with: episode_count=10,iteration_count=150,ϵ=0.9,ϵ_min=0.1, ϵ_expdecay=5000,γ=0.015, lr=0.01, replaymemory=10000,\n",
      "batch=512, target_update=5\n",
      "  ## Episode: 1/10 'DQL' ϵ=0.9000, γ=0.015, lr=0.01, replaymemory=10000,\n",
      "batch=512, target_update=5\n"
     ]
    },
    {
     "name": "stderr",
     "output_type": "stream",
     "text": [
      "Episode 1|Iteration 0|reward: ------|last_reward_at: ----|Elapsed Time: 0:00:00||\n",
      "Episode 1|Iteration 1|reward:   11.0|last_reward_at: ----|Elapsed Time: 0:00:00||\n",
      "Episode 1|Iteration 1|reward:   11.0|last_reward_at:    1|Elapsed Time: 0:00:00||\n",
      "Episode 1|Iteration 4|reward:   22.0|last_reward_at:    1|Elapsed Time: 0:00:00||\n",
      "Episode 1|Iteration 4|reward:   22.0|last_reward_at:    4|Elapsed Time: 0:00:00||\n",
      "/home/alex/Documents/projects/CyberBattleSim/cyberbattle/agents/baseline/agent_dql.py:382: UserWarning: Creating a tensor from a list of numpy.ndarrays is extremely slow. Please consider converting the list to a single numpy.ndarray with numpy.array() before converting to a tensor. (Triggered internally at ../torch/csrc/utils/tensor_new.cpp:261.)\n",
      "  state_batch = torch.tensor(states_to_consider).to(device)\n",
      "Episode 1|Iteration 18|reward:   31.0|last_reward_at:    4|Elapsed Time: 0:00:00||\n",
      "Episode 1|Iteration 18|reward:   31.0|last_reward_at:   18|Elapsed Time: 0:00:00||\n",
      "Episode 1|Iteration 69|reward: 1031.0|last_reward_at:   18|Elapsed Time: 0:00:00||\n",
      "Episode 1|Iteration 69|reward: 1031.0|last_reward_at:   69|Elapsed Time: 0:00:00||\n",
      "Episode 1|Iteration 124|reward: 1031.0|last_reward_at:   69|Elapsed Time: 0:00:00||\n",
      "Episode 1|Iteration 150|reward: 1031.0|last_reward_at:   69|Elapsed Time: 0:00:00||\n"
     ]
    },
    {
     "name": "stdout",
     "output_type": "stream",
     "text": [
      "  Episode 1 stopped at t=150 \n",
      "  Breakdown [Reward/NoReward (Success rate)]\n",
      "    explore-local: 1/38 (0.03)\n",
      "    explore-remote: 2/50 (0.04)\n",
      "    explore-connect: 1/43 (0.02)\n",
      "    exploit-local: 0/14 (0.00)\n",
      "    exploit-remote: 0/0 (NaN)\n",
      "    exploit-connect: 0/1 (0.00)\n",
      "  exploit deflected to exploration: 3\n",
      "  ## Episode: 2/10 'DQL' ϵ=0.8765, γ=0.015, lr=0.01, replaymemory=10000,\n",
      "batch=512, target_update=5\n"
     ]
    },
    {
     "name": "stderr",
     "output_type": "stream",
     "text": [
      "Episode 2|Iteration 0|reward: ------|last_reward_at: ----|Elapsed Time: 0:00:00||\n",
      "Episode 2|Iteration 1|reward:   11.0|last_reward_at: ----|Elapsed Time: 0:00:00||\n",
      "Episode 2|Iteration 1|reward:   11.0|last_reward_at:    1|Elapsed Time: 0:00:00||\n",
      "Episode 2|Iteration 5|reward:   22.0|last_reward_at:    1|Elapsed Time: 0:00:00||\n",
      "Episode 2|Iteration 5|reward:   22.0|last_reward_at:    5|Elapsed Time: 0:00:00||\n",
      "Episode 2|Iteration 9|reward:   31.0|last_reward_at:    5|Elapsed Time: 0:00:00||\n",
      "Episode 2|Iteration 9|reward:   31.0|last_reward_at:    9|Elapsed Time: 0:00:00||\n",
      "Episode 2|Iteration 12|reward: 1031.0|last_reward_at:    9|Elapsed Time: 0:00:00||\n",
      "Episode 2|Iteration 12|reward: 1031.0|last_reward_at:   12|Elapsed Time: 0:00:00||\n",
      "Episode 2|Iteration 67|reward: 1031.0|last_reward_at:   12|Elapsed Time: 0:00:00||\n",
      "Episode 2|Iteration 124|reward: 1031.0|last_reward_at:   12|Elapsed Time: 0:00:00||\n",
      "Episode 2|Iteration 150|reward: 1031.0|last_reward_at:   12|Elapsed Time: 0:00:00||\n"
     ]
    },
    {
     "name": "stdout",
     "output_type": "stream",
     "text": [
      "  Episode 2 stopped at t=150 \n",
      "  Breakdown [Reward/NoReward (Success rate)]\n",
      "    explore-local: 1/40 (0.02)\n",
      "    explore-remote: 2/57 (0.03)\n",
      "    explore-connect: 1/37 (0.03)\n",
      "    exploit-local: 0/6 (0.00)\n",
      "    exploit-remote: 0/6 (0.00)\n",
      "    exploit-connect: 0/0 (NaN)\n",
      "  exploit deflected to exploration: 7\n",
      "  ## Episode: 3/10 'DQL' ϵ=0.8536, γ=0.015, lr=0.01, replaymemory=10000,\n",
      "batch=512, target_update=5\n"
     ]
    },
    {
     "name": "stderr",
     "output_type": "stream",
     "text": [
      "Episode 3|Iteration 0|reward: ------|last_reward_at: ----|Elapsed Time: 0:00:00||\n",
      "Episode 3|Iteration 1|reward:   11.0|last_reward_at: ----|Elapsed Time: 0:00:00||\n",
      "Episode 3|Iteration 1|reward:   11.0|last_reward_at:    1|Elapsed Time: 0:00:00||\n",
      "Episode 3|Iteration 3|reward:   22.0|last_reward_at:    1|Elapsed Time: 0:00:00||\n",
      "Episode 3|Iteration 3|reward:   22.0|last_reward_at:    3|Elapsed Time: 0:00:00||\n",
      "Episode 3|Iteration 8|reward:   31.0|last_reward_at:    3|Elapsed Time: 0:00:00||\n",
      "Episode 3|Iteration 8|reward:   31.0|last_reward_at:    8|Elapsed Time: 0:00:00||\n",
      "Episode 3|Iteration 19|reward: 1031.0|last_reward_at:    8|Elapsed Time: 0:00:00||\n",
      "Episode 3|Iteration 19|reward: 1031.0|last_reward_at:   19|Elapsed Time: 0:00:00||\n",
      "Episode 3|Iteration 71|reward: 1031.0|last_reward_at:   19|Elapsed Time: 0:00:00||\n",
      "Episode 3|Iteration 126|reward: 1031.0|last_reward_at:   19|Elapsed Time: 0:00:00||\n",
      "Episode 3|Iteration 150|reward: 1031.0|last_reward_at:   19|Elapsed Time: 0:00:00||\n"
     ]
    },
    {
     "name": "stdout",
     "output_type": "stream",
     "text": [
      "  Episode 3 stopped at t=150 \n",
      "  Breakdown [Reward/NoReward (Success rate)]\n",
      "    explore-local: 1/27 (0.04)\n",
      "    explore-remote: 2/47 (0.04)\n",
      "    explore-connect: 1/48 (0.02)\n",
      "    exploit-local: 0/14 (0.00)\n",
      "    exploit-remote: 0/10 (0.00)\n",
      "    exploit-connect: 0/0 (NaN)\n",
      "  exploit deflected to exploration: 2\n",
      "  ## Episode: 4/10 'DQL' ϵ=0.8313, γ=0.015, lr=0.01, replaymemory=10000,\n",
      "batch=512, target_update=5\n"
     ]
    },
    {
     "name": "stderr",
     "output_type": "stream",
     "text": [
      "Episode 4|Iteration 0|reward: ------|last_reward_at: ----|Elapsed Time: 0:00:00||\n",
      "Episode 4|Iteration 1|reward:    0.0|last_reward_at: ----|Elapsed Time: 0:00:00||\n",
      "Episode 4|Iteration 2|reward:   11.0|last_reward_at: ----|Elapsed Time: 0:00:00||\n",
      "Episode 4|Iteration 2|reward:   11.0|last_reward_at:    2|Elapsed Time: 0:00:00||\n",
      "Episode 4|Iteration 3|reward:   22.0|last_reward_at:    2|Elapsed Time: 0:00:00||\n",
      "Episode 4|Iteration 3|reward:   22.0|last_reward_at:    3|Elapsed Time: 0:00:00||\n",
      "Episode 4|Iteration 23|reward:   31.0|last_reward_at:    3|Elapsed Time: 0:00:00||\n",
      "Episode 4|Iteration 23|reward:   31.0|last_reward_at:   23|Elapsed Time: 0:00:00||\n",
      "Episode 4|Iteration 46|reward:   31.0|last_reward_at:   23|Elapsed Time: 0:00:00||\n",
      "Episode 4|Iteration 46|reward: 1031.0|last_reward_at:   23|Elapsed Time: 0:00:00||\n",
      "Episode 4|Iteration 46|reward: 1031.0|last_reward_at:   46|Elapsed Time: 0:00:00||\n",
      "Episode 4|Iteration 48|reward: 1031.0|last_reward_at:   46|Elapsed Time: 0:00:00||\n",
      "Episode 4|Iteration 52|reward: 1031.0|last_reward_at:   46|Elapsed Time: 0:00:00||\n",
      "Episode 4|Iteration 56|reward: 1031.0|last_reward_at:   46|Elapsed Time: 0:00:00||\n",
      "Episode 4|Iteration 61|reward: 1031.0|last_reward_at:   46|Elapsed Time: 0:00:00||\n",
      "Episode 4|Iteration 63|reward: 1031.0|last_reward_at:   46|Elapsed Time: 0:00:00||\n",
      "Episode 4|Iteration 67|reward: 1031.0|last_reward_at:   46|Elapsed Time: 0:00:00||\n",
      "Episode 4|Iteration 69|reward: 1031.0|last_reward_at:   46|Elapsed Time: 0:00:00||\n",
      "Episode 4|Iteration 70|reward: 1031.0|last_reward_at:   46|Elapsed Time: 0:00:00||\n",
      "Episode 4|Iteration 72|reward: 1031.0|last_reward_at:   46|Elapsed Time: 0:00:00||\n",
      "Episode 4|Iteration 75|reward: 1031.0|last_reward_at:   46|Elapsed Time: 0:00:00||\n",
      "Episode 4|Iteration 78|reward: 1031.0|last_reward_at:   46|Elapsed Time: 0:00:00||\n",
      "Episode 4|Iteration 82|reward: 1031.0|last_reward_at:   46|Elapsed Time: 0:00:01||\n",
      "Episode 4|Iteration 84|reward: 1031.0|last_reward_at:   46|Elapsed Time: 0:00:01||\n",
      "Episode 4|Iteration 88|reward: 1031.0|last_reward_at:   46|Elapsed Time: 0:00:01||\n",
      "Episode 4|Iteration 90|reward: 1031.0|last_reward_at:   46|Elapsed Time: 0:00:01||\n",
      "Episode 4|Iteration 94|reward: 1031.0|last_reward_at:   46|Elapsed Time: 0:00:01||\n",
      "Episode 4|Iteration 97|reward: 1031.0|last_reward_at:   46|Elapsed Time: 0:00:01||\n",
      "Episode 4|Iteration 99|reward: 1031.0|last_reward_at:   46|Elapsed Time: 0:00:01||\n",
      "Episode 4|Iteration 101|reward: 1031.0|last_reward_at:   46|Elapsed Time: 0:00:01||\n",
      "Episode 4|Iteration 103|reward: 1031.0|last_reward_at:   46|Elapsed Time: 0:00:01||\n",
      "Episode 4|Iteration 105|reward: 1031.0|last_reward_at:   46|Elapsed Time: 0:00:01||\n",
      "Episode 4|Iteration 107|reward: 1031.0|last_reward_at:   46|Elapsed Time: 0:00:01||\n",
      "Episode 4|Iteration 109|reward: 1031.0|last_reward_at:   46|Elapsed Time: 0:00:01||\n",
      "Episode 4|Iteration 113|reward: 1031.0|last_reward_at:   46|Elapsed Time: 0:00:01||\n",
      "Episode 4|Iteration 116|reward: 1031.0|last_reward_at:   46|Elapsed Time: 0:00:01||\n",
      "Episode 4|Iteration 120|reward: 1031.0|last_reward_at:   46|Elapsed Time: 0:00:02||\n",
      "Episode 4|Iteration 123|reward: 1031.0|last_reward_at:   46|Elapsed Time: 0:00:02||\n",
      "Episode 4|Iteration 128|reward: 1031.0|last_reward_at:   46|Elapsed Time: 0:00:02||\n",
      "Episode 4|Iteration 130|reward: 1031.0|last_reward_at:   46|Elapsed Time: 0:00:02||\n",
      "Episode 4|Iteration 132|reward: 1031.0|last_reward_at:   46|Elapsed Time: 0:00:02||\n",
      "Episode 4|Iteration 135|reward: 1031.0|last_reward_at:   46|Elapsed Time: 0:00:02||\n",
      "Episode 4|Iteration 135|reward: 1031.0|last_reward_at:   46|Elapsed Time: 0:00:02||\n",
      "Episode 4|Iteration 139|reward: 1031.0|last_reward_at:   46|Elapsed Time: 0:00:02||\n",
      "Episode 4|Iteration 143|reward: 1031.0|last_reward_at:   46|Elapsed Time: 0:00:02||\n",
      "Episode 4|Iteration 147|reward: 1031.0|last_reward_at:   46|Elapsed Time: 0:00:02||\n",
      "Episode 4|Iteration 150|reward: 1031.0|last_reward_at:   46|Elapsed Time: 0:00:02||\n",
      "Episode 4|Iteration 150|reward: 1031.0|last_reward_at:   46|Elapsed Time: 0:00:02||\n"
     ]
    },
    {
     "name": "stdout",
     "output_type": "stream",
     "text": [
      "  Episode 4 stopped at t=150 \n",
      "  Breakdown [Reward/NoReward (Success rate)]\n",
      "    explore-local: 1/28 (0.03)\n",
      "    explore-remote: 2/62 (0.03)\n",
      "    explore-connect: 1/35 (0.03)\n",
      "    exploit-local: 0/8 (0.00)\n",
      "    exploit-remote: 0/13 (0.00)\n",
      "    exploit-connect: 0/0 (NaN)\n",
      "  exploit deflected to exploration: 9\n",
      "  ## Episode: 5/10 'DQL' ϵ=0.8097, γ=0.015, lr=0.01, replaymemory=10000,\n",
      "batch=512, target_update=5\n"
     ]
    },
    {
     "name": "stderr",
     "output_type": "stream",
     "text": [
      "Episode 5|Iteration 0|reward: ------|last_reward_at: ----|Elapsed Time: 0:00:00||\n",
      "Episode 5|Iteration 1|reward:    0.0|last_reward_at: ----|Elapsed Time: 0:00:00||\n",
      "Episode 5|Iteration 2|reward:   11.0|last_reward_at: ----|Elapsed Time: 0:00:00||\n",
      "Episode 5|Iteration 2|reward:   11.0|last_reward_at:    2|Elapsed Time: 0:00:00||\n",
      "Episode 5|Iteration 3|reward:   22.0|last_reward_at:    2|Elapsed Time: 0:00:00||\n",
      "Episode 5|Iteration 3|reward:   22.0|last_reward_at:    3|Elapsed Time: 0:00:00||\n",
      "Episode 5|Iteration 6|reward:   22.0|last_reward_at:    3|Elapsed Time: 0:00:00||\n",
      "Episode 5|Iteration 8|reward:   22.0|last_reward_at:    3|Elapsed Time: 0:00:00||\n",
      "Episode 5|Iteration 10|reward:   22.0|last_reward_at:    3|Elapsed Time: 0:00:00||\n",
      "Episode 5|Iteration 12|reward:   22.0|last_reward_at:    3|Elapsed Time: 0:00:00||\n",
      "Episode 5|Iteration 14|reward:   22.0|last_reward_at:    3|Elapsed Time: 0:00:00||\n",
      "Episode 5|Iteration 15|reward:   31.0|last_reward_at:    3|Elapsed Time: 0:00:00||\n",
      "Episode 5|Iteration 15|reward:   31.0|last_reward_at:   15|Elapsed Time: 0:00:00||\n",
      "Episode 5|Iteration 19|reward:   31.0|last_reward_at:   15|Elapsed Time: 0:00:00||\n",
      "Episode 5|Iteration 21|reward:   31.0|last_reward_at:   15|Elapsed Time: 0:00:00||\n",
      "Episode 5|Iteration 24|reward: 1031.0|last_reward_at:   15|Elapsed Time: 0:00:00||\n",
      "Episode 5|Iteration 24|reward: 1031.0|last_reward_at:   24|Elapsed Time: 0:00:00||\n",
      "Episode 5|Iteration 29|reward: 1031.0|last_reward_at:   24|Elapsed Time: 0:00:00||\n",
      "Episode 5|Iteration 33|reward: 1031.0|last_reward_at:   24|Elapsed Time: 0:00:00||\n",
      "Episode 5|Iteration 35|reward: 1031.0|last_reward_at:   24|Elapsed Time: 0:00:00||\n",
      "Episode 5|Iteration 37|reward: 1031.0|last_reward_at:   24|Elapsed Time: 0:00:01||\n",
      "Episode 5|Iteration 40|reward: 1031.0|last_reward_at:   24|Elapsed Time: 0:00:01||\n",
      "Episode 5|Iteration 42|reward: 1031.0|last_reward_at:   24|Elapsed Time: 0:00:01||\n",
      "Episode 5|Iteration 44|reward: 1031.0|last_reward_at:   24|Elapsed Time: 0:00:01||\n",
      "Episode 5|Iteration 45|reward: 1031.0|last_reward_at:   24|Elapsed Time: 0:00:01||\n",
      "Episode 5|Iteration 48|reward: 1031.0|last_reward_at:   24|Elapsed Time: 0:00:01||\n",
      "Episode 5|Iteration 52|reward: 1031.0|last_reward_at:   24|Elapsed Time: 0:00:01||\n",
      "Episode 5|Iteration 55|reward: 1031.0|last_reward_at:   24|Elapsed Time: 0:00:01||\n",
      "Episode 5|Iteration 57|reward: 1031.0|last_reward_at:   24|Elapsed Time: 0:00:01||\n",
      "Episode 5|Iteration 59|reward: 1031.0|last_reward_at:   24|Elapsed Time: 0:00:01||\n",
      "Episode 5|Iteration 61|reward: 1031.0|last_reward_at:   24|Elapsed Time: 0:00:01||\n",
      "Episode 5|Iteration 62|reward: 1031.0|last_reward_at:   24|Elapsed Time: 0:00:01||\n",
      "Episode 5|Iteration 65|reward: 1031.0|last_reward_at:   24|Elapsed Time: 0:00:02||\n",
      "Episode 5|Iteration 66|reward: 1031.0|last_reward_at:   24|Elapsed Time: 0:00:02||\n",
      "Episode 5|Iteration 69|reward: 1031.0|last_reward_at:   24|Elapsed Time: 0:00:02||\n",
      "Episode 5|Iteration 71|reward: 1031.0|last_reward_at:   24|Elapsed Time: 0:00:02||\n",
      "Episode 5|Iteration 73|reward: 1031.0|last_reward_at:   24|Elapsed Time: 0:00:02||\n",
      "Episode 5|Iteration 76|reward: 1031.0|last_reward_at:   24|Elapsed Time: 0:00:02||\n",
      "Episode 5|Iteration 80|reward: 1031.0|last_reward_at:   24|Elapsed Time: 0:00:02||\n",
      "Episode 5|Iteration 84|reward: 1031.0|last_reward_at:   24|Elapsed Time: 0:00:02||\n",
      "Episode 5|Iteration 86|reward: 1031.0|last_reward_at:   24|Elapsed Time: 0:00:02||\n",
      "Episode 5|Iteration 90|reward: 1031.0|last_reward_at:   24|Elapsed Time: 0:00:02||\n",
      "Episode 5|Iteration 94|reward: 1031.0|last_reward_at:   24|Elapsed Time: 0:00:02||\n",
      "Episode 5|Iteration 95|reward: 1031.0|last_reward_at:   24|Elapsed Time: 0:00:02||\n",
      "Episode 5|Iteration 99|reward: 1031.0|last_reward_at:   24|Elapsed Time: 0:00:02||\n",
      "Episode 5|Iteration 103|reward: 1031.0|last_reward_at:   24|Elapsed Time: 0:00:03||\n",
      "Episode 5|Iteration 107|reward: 1031.0|last_reward_at:   24|Elapsed Time: 0:00:03||\n",
      "Episode 5|Iteration 111|reward: 1031.0|last_reward_at:   24|Elapsed Time: 0:00:03||\n",
      "Episode 5|Iteration 113|reward: 1031.0|last_reward_at:   24|Elapsed Time: 0:00:03||\n",
      "Episode 5|Iteration 116|reward: 1031.0|last_reward_at:   24|Elapsed Time: 0:00:03||\n",
      "Episode 5|Iteration 120|reward: 1031.0|last_reward_at:   24|Elapsed Time: 0:00:03||\n",
      "Episode 5|Iteration 124|reward: 1031.0|last_reward_at:   24|Elapsed Time: 0:00:03||\n",
      "Episode 5|Iteration 128|reward: 1031.0|last_reward_at:   24|Elapsed Time: 0:00:03||\n",
      "Episode 5|Iteration 131|reward: 1031.0|last_reward_at:   24|Elapsed Time: 0:00:03||\n",
      "Episode 5|Iteration 135|reward: 1031.0|last_reward_at:   24|Elapsed Time: 0:00:03||\n",
      "Episode 5|Iteration 139|reward: 1031.0|last_reward_at:   24|Elapsed Time: 0:00:03||\n",
      "Episode 5|Iteration 143|reward: 1031.0|last_reward_at:   24|Elapsed Time: 0:00:03||\n",
      "Episode 5|Iteration 147|reward: 1031.0|last_reward_at:   24|Elapsed Time: 0:00:03||\n",
      "Episode 5|Iteration 150|reward: 1031.0|last_reward_at:   24|Elapsed Time: 0:00:03||\n",
      "Episode 5|Iteration 150|reward: 1031.0|last_reward_at:   24|Elapsed Time: 0:00:03||\n"
     ]
    },
    {
     "name": "stdout",
     "output_type": "stream",
     "text": [
      "  Episode 5 stopped at t=150 \n",
      "  Breakdown [Reward/NoReward (Success rate)]\n",
      "    explore-local: 1/31 (0.03)\n",
      "    explore-remote: 0/58 (0.00)\n",
      "    explore-connect: 1/53 (0.02)\n",
      "    exploit-local: 0/0 (NaN)\n",
      "    exploit-remote: 2/4 (0.33)\n",
      "    exploit-connect: 0/0 (NaN)\n",
      "  exploit deflected to exploration: 16\n",
      "  ## Episode: 6/10 'DQL' ϵ=0.7887, γ=0.015, lr=0.01, replaymemory=10000,\n",
      "batch=512, target_update=5\n"
     ]
    },
    {
     "name": "stderr",
     "output_type": "stream",
     "text": [
      "Episode 6|Iteration 0|reward: ------|last_reward_at: ----|Elapsed Time: 0:00:00||\n",
      "Episode 6|Iteration 1|reward:   11.0|last_reward_at: ----|Elapsed Time: 0:00:00||\n",
      "Episode 6|Iteration 1|reward:   11.0|last_reward_at:    1|Elapsed Time: 0:00:00||\n",
      "Episode 6|Iteration 3|reward:   22.0|last_reward_at:    1|Elapsed Time: 0:00:00||\n",
      "Episode 6|Iteration 3|reward:   22.0|last_reward_at:    3|Elapsed Time: 0:00:00||\n",
      "Episode 6|Iteration 6|reward:   22.0|last_reward_at:    3|Elapsed Time: 0:00:00||\n",
      "Episode 6|Iteration 8|reward:   22.0|last_reward_at:    3|Elapsed Time: 0:00:00||\n",
      "Episode 6|Iteration 10|reward:   22.0|last_reward_at:    3|Elapsed Time: 0:00:00||\n",
      "Episode 6|Iteration 12|reward:   22.0|last_reward_at:    3|Elapsed Time: 0:00:00||\n",
      "Episode 6|Iteration 13|reward:   31.0|last_reward_at:    3|Elapsed Time: 0:00:00||\n",
      "Episode 6|Iteration 13|reward:   31.0|last_reward_at:   13|Elapsed Time: 0:00:00||\n",
      "Episode 6|Iteration 16|reward:   31.0|last_reward_at:   13|Elapsed Time: 0:00:00||\n",
      "Episode 6|Iteration 18|reward:   31.0|last_reward_at:   13|Elapsed Time: 0:00:00||\n",
      "Episode 6|Iteration 21|reward:   31.0|last_reward_at:   13|Elapsed Time: 0:00:00||\n",
      "Episode 6|Iteration 23|reward:   31.0|last_reward_at:   13|Elapsed Time: 0:00:00||\n",
      "Episode 6|Iteration 25|reward:   31.0|last_reward_at:   13|Elapsed Time: 0:00:00||\n",
      "Episode 6|Iteration 27|reward:   31.0|last_reward_at:   13|Elapsed Time: 0:00:00||\n",
      "Episode 6|Iteration 29|reward:   31.0|last_reward_at:   13|Elapsed Time: 0:00:00||\n",
      "Episode 6|Iteration 31|reward:   31.0|last_reward_at:   13|Elapsed Time: 0:00:00||\n",
      "Episode 6|Iteration 33|reward:   31.0|last_reward_at:   13|Elapsed Time: 0:00:01||\n",
      "Episode 6|Iteration 33|reward: 1031.0|last_reward_at:   13|Elapsed Time: 0:00:01||\n",
      "Episode 6|Iteration 33|reward: 1031.0|last_reward_at:   33|Elapsed Time: 0:00:01||\n",
      "Episode 6|Iteration 37|reward: 1031.0|last_reward_at:   33|Elapsed Time: 0:00:01||\n",
      "Episode 6|Iteration 38|reward: 1031.0|last_reward_at:   33|Elapsed Time: 0:00:01||\n",
      "Episode 6|Iteration 42|reward: 1031.0|last_reward_at:   33|Elapsed Time: 0:00:01||\n",
      "Episode 6|Iteration 46|reward: 1031.0|last_reward_at:   33|Elapsed Time: 0:00:01||\n",
      "Episode 6|Iteration 48|reward: 1031.0|last_reward_at:   33|Elapsed Time: 0:00:01||\n",
      "Episode 6|Iteration 50|reward: 1031.0|last_reward_at:   33|Elapsed Time: 0:00:01||\n",
      "Episode 6|Iteration 52|reward: 1031.0|last_reward_at:   33|Elapsed Time: 0:00:01||\n",
      "Episode 6|Iteration 55|reward: 1031.0|last_reward_at:   33|Elapsed Time: 0:00:01||\n",
      "Episode 6|Iteration 57|reward: 1031.0|last_reward_at:   33|Elapsed Time: 0:00:01||\n",
      "Episode 6|Iteration 59|reward: 1031.0|last_reward_at:   33|Elapsed Time: 0:00:01||\n",
      "Episode 6|Iteration 61|reward: 1031.0|last_reward_at:   33|Elapsed Time: 0:00:01||\n",
      "Episode 6|Iteration 62|reward: 1031.0|last_reward_at:   33|Elapsed Time: 0:00:01||\n",
      "Episode 6|Iteration 64|reward: 1031.0|last_reward_at:   33|Elapsed Time: 0:00:02||\n",
      "Episode 6|Iteration 67|reward: 1031.0|last_reward_at:   33|Elapsed Time: 0:00:02||\n",
      "Episode 6|Iteration 69|reward: 1031.0|last_reward_at:   33|Elapsed Time: 0:00:02||\n",
      "Episode 6|Iteration 70|reward: 1031.0|last_reward_at:   33|Elapsed Time: 0:00:02||\n",
      "Episode 6|Iteration 73|reward: 1031.0|last_reward_at:   33|Elapsed Time: 0:00:02||\n",
      "Episode 6|Iteration 74|reward: 1031.0|last_reward_at:   33|Elapsed Time: 0:00:02||\n",
      "Episode 6|Iteration 78|reward: 1031.0|last_reward_at:   33|Elapsed Time: 0:00:02||\n",
      "Episode 6|Iteration 79|reward: 1031.0|last_reward_at:   33|Elapsed Time: 0:00:02||\n",
      "Episode 6|Iteration 82|reward: 1031.0|last_reward_at:   33|Elapsed Time: 0:00:02||\n",
      "Episode 6|Iteration 86|reward: 1031.0|last_reward_at:   33|Elapsed Time: 0:00:02||\n",
      "Episode 6|Iteration 90|reward: 1031.0|last_reward_at:   33|Elapsed Time: 0:00:03||\n",
      "Episode 6|Iteration 94|reward: 1031.0|last_reward_at:   33|Elapsed Time: 0:00:03||\n",
      "Episode 6|Iteration 96|reward: 1031.0|last_reward_at:   33|Elapsed Time: 0:00:03||\n",
      "Episode 6|Iteration 101|reward: 1031.0|last_reward_at:   33|Elapsed Time: 0:00:03||\n",
      "Episode 6|Iteration 102|reward: 1031.0|last_reward_at:   33|Elapsed Time: 0:00:03||\n",
      "Episode 6|Iteration 105|reward: 1031.0|last_reward_at:   33|Elapsed Time: 0:00:03||\n",
      "Episode 6|Iteration 109|reward: 1031.0|last_reward_at:   33|Elapsed Time: 0:00:03||\n",
      "Episode 6|Iteration 113|reward: 1031.0|last_reward_at:   33|Elapsed Time: 0:00:03||\n",
      "Episode 6|Iteration 114|reward: 1031.0|last_reward_at:   33|Elapsed Time: 0:00:03||\n",
      "Episode 6|Iteration 116|reward: 1031.0|last_reward_at:   33|Elapsed Time: 0:00:03||\n",
      "Episode 6|Iteration 120|reward: 1031.0|last_reward_at:   33|Elapsed Time: 0:00:03||\n",
      "Episode 6|Iteration 122|reward: 1031.0|last_reward_at:   33|Elapsed Time: 0:00:03||\n",
      "Episode 6|Iteration 126|reward: 1031.0|last_reward_at:   33|Elapsed Time: 0:00:04||\n",
      "Episode 6|Iteration 128|reward: 1031.0|last_reward_at:   33|Elapsed Time: 0:00:04||\n",
      "Episode 6|Iteration 130|reward: 1031.0|last_reward_at:   33|Elapsed Time: 0:00:04||\n",
      "Episode 6|Iteration 132|reward: 1031.0|last_reward_at:   33|Elapsed Time: 0:00:04||\n",
      "Episode 6|Iteration 135|reward: 1031.0|last_reward_at:   33|Elapsed Time: 0:00:04||\n",
      "Episode 6|Iteration 137|reward: 1031.0|last_reward_at:   33|Elapsed Time: 0:00:04||\n",
      "Episode 6|Iteration 140|reward: 1031.0|last_reward_at:   33|Elapsed Time: 0:00:04||\n",
      "Episode 6|Iteration 143|reward: 1031.0|last_reward_at:   33|Elapsed Time: 0:00:04||\n",
      "Episode 6|Iteration 145|reward: 1031.0|last_reward_at:   33|Elapsed Time: 0:00:04||\n",
      "Episode 6|Iteration 149|reward: 1031.0|last_reward_at:   33|Elapsed Time: 0:00:04||\n",
      "Episode 6|Iteration 150|reward: 1031.0|last_reward_at:   33|Elapsed Time: 0:00:04||\n"
     ]
    },
    {
     "name": "stdout",
     "output_type": "stream",
     "text": [
      "  Episode 6 stopped at t=150 \n",
      "  Breakdown [Reward/NoReward (Success rate)]\n",
      "    explore-local: 1/45 (0.02)\n",
      "    explore-remote: 0/64 (0.00)\n",
      "    explore-connect: 0/33 (0.00)\n",
      "    exploit-local: 0/1 (0.00)\n",
      "    exploit-remote: 2/3 (0.40)\n",
      "    exploit-connect: 1/0 (1.00)\n",
      "  exploit deflected to exploration: 29\n",
      "  ## Episode: 7/10 'DQL' ϵ=0.7683, γ=0.015, lr=0.01, replaymemory=10000,\n",
      "batch=512, target_update=5\n"
     ]
    },
    {
     "name": "stderr",
     "output_type": "stream",
     "text": [
      "Episode 7|Iteration 0|reward: ------|last_reward_at: ----|Elapsed Time: 0:00:00||\n",
      "Episode 7|Iteration 1|reward:    0.0|last_reward_at: ----|Elapsed Time: 0:00:00||\n",
      "Episode 7|Iteration 2|reward:   11.0|last_reward_at: ----|Elapsed Time: 0:00:00||\n",
      "Episode 7|Iteration 2|reward:   11.0|last_reward_at:    2|Elapsed Time: 0:00:00||\n",
      "Episode 7|Iteration 6|reward:   11.0|last_reward_at:    2|Elapsed Time: 0:00:00||\n",
      "Episode 7|Iteration 10|reward:   11.0|last_reward_at:    2|Elapsed Time: 0:00:00||\n",
      "Episode 7|Iteration 10|reward:   22.0|last_reward_at:    2|Elapsed Time: 0:00:00||\n",
      "Episode 7|Iteration 10|reward:   22.0|last_reward_at:   10|Elapsed Time: 0:00:00||\n",
      "Episode 7|Iteration 16|reward:   22.0|last_reward_at:   10|Elapsed Time: 0:00:00||\n",
      "Episode 7|Iteration 20|reward:   31.0|last_reward_at:   10|Elapsed Time: 0:00:00||\n",
      "Episode 7|Iteration 20|reward:   31.0|last_reward_at:   20|Elapsed Time: 0:00:00||\n",
      "Episode 7|Iteration 24|reward: 1031.0|last_reward_at:   20|Elapsed Time: 0:00:00||\n",
      "Episode 7|Iteration 24|reward: 1031.0|last_reward_at:   24|Elapsed Time: 0:00:00||\n",
      "Episode 7|Iteration 29|reward: 1031.0|last_reward_at:   24|Elapsed Time: 0:00:00||\n",
      "Episode 7|Iteration 31|reward: 1031.0|last_reward_at:   24|Elapsed Time: 0:00:00||\n",
      "Episode 7|Iteration 33|reward: 1031.0|last_reward_at:   24|Elapsed Time: 0:00:00||\n",
      "Episode 7|Iteration 36|reward: 1031.0|last_reward_at:   24|Elapsed Time: 0:00:00||\n",
      "Episode 7|Iteration 40|reward: 1031.0|last_reward_at:   24|Elapsed Time: 0:00:00||\n",
      "Episode 7|Iteration 44|reward: 1031.0|last_reward_at:   24|Elapsed Time: 0:00:00||\n",
      "Episode 7|Iteration 48|reward: 1031.0|last_reward_at:   24|Elapsed Time: 0:00:00||\n",
      "Episode 7|Iteration 50|reward: 1031.0|last_reward_at:   24|Elapsed Time: 0:00:01||\n",
      "Episode 7|Iteration 52|reward: 1031.0|last_reward_at:   24|Elapsed Time: 0:00:01||\n",
      "Episode 7|Iteration 54|reward: 1031.0|last_reward_at:   24|Elapsed Time: 0:00:01||\n",
      "Episode 7|Iteration 58|reward: 1031.0|last_reward_at:   24|Elapsed Time: 0:00:01||\n",
      "Episode 7|Iteration 61|reward: 1031.0|last_reward_at:   24|Elapsed Time: 0:00:01||\n",
      "Episode 7|Iteration 63|reward: 1031.0|last_reward_at:   24|Elapsed Time: 0:00:01||\n",
      "Episode 7|Iteration 67|reward: 1031.0|last_reward_at:   24|Elapsed Time: 0:00:01||\n",
      "Episode 7|Iteration 71|reward: 1031.0|last_reward_at:   24|Elapsed Time: 0:00:01||\n",
      "Episode 7|Iteration 73|reward: 1031.0|last_reward_at:   24|Elapsed Time: 0:00:01||\n",
      "Episode 7|Iteration 75|reward: 1031.0|last_reward_at:   24|Elapsed Time: 0:00:01||\n",
      "Episode 7|Iteration 77|reward: 1031.0|last_reward_at:   24|Elapsed Time: 0:00:01||\n",
      "Episode 7|Iteration 81|reward: 1031.0|last_reward_at:   24|Elapsed Time: 0:00:02||\n",
      "Episode 7|Iteration 85|reward: 1031.0|last_reward_at:   24|Elapsed Time: 0:00:02||\n",
      "Episode 7|Iteration 88|reward: 1031.0|last_reward_at:   24|Elapsed Time: 0:00:02||\n",
      "Episode 7|Iteration 90|reward: 1031.0|last_reward_at:   24|Elapsed Time: 0:00:02||\n",
      "Episode 7|Iteration 92|reward: 1031.0|last_reward_at:   24|Elapsed Time: 0:00:02||\n",
      "Episode 7|Iteration 94|reward: 1031.0|last_reward_at:   24|Elapsed Time: 0:00:02||\n",
      "Episode 7|Iteration 99|reward: 1031.0|last_reward_at:   24|Elapsed Time: 0:00:02||\n",
      "Episode 7|Iteration 101|reward: 1031.0|last_reward_at:   24|Elapsed Time: 0:00:02||\n",
      "Episode 7|Iteration 102|reward: 1031.0|last_reward_at:   24|Elapsed Time: 0:00:02||\n",
      "Episode 7|Iteration 105|reward: 1031.0|last_reward_at:   24|Elapsed Time: 0:00:02||\n",
      "Episode 7|Iteration 108|reward: 1031.0|last_reward_at:   24|Elapsed Time: 0:00:03||\n",
      "Episode 7|Iteration 110|reward: 1031.0|last_reward_at:   24|Elapsed Time: 0:00:03||\n",
      "Episode 7|Iteration 113|reward: 1031.0|last_reward_at:   24|Elapsed Time: 0:00:03||\n",
      "Episode 7|Iteration 114|reward: 1031.0|last_reward_at:   24|Elapsed Time: 0:00:03||\n",
      "Episode 7|Iteration 116|reward: 1031.0|last_reward_at:   24|Elapsed Time: 0:00:03||\n",
      "Episode 7|Iteration 118|reward: 1031.0|last_reward_at:   24|Elapsed Time: 0:00:03||\n",
      "Episode 7|Iteration 122|reward: 1031.0|last_reward_at:   24|Elapsed Time: 0:00:03||\n",
      "Episode 7|Iteration 126|reward: 1031.0|last_reward_at:   24|Elapsed Time: 0:00:03||\n",
      "Episode 7|Iteration 128|reward: 1031.0|last_reward_at:   24|Elapsed Time: 0:00:03||\n",
      "Episode 7|Iteration 132|reward: 1031.0|last_reward_at:   24|Elapsed Time: 0:00:03||\n",
      "Episode 7|Iteration 134|reward: 1031.0|last_reward_at:   24|Elapsed Time: 0:00:03||\n",
      "Episode 7|Iteration 139|reward: 1031.0|last_reward_at:   24|Elapsed Time: 0:00:04||\n",
      "Episode 7|Iteration 143|reward: 1031.0|last_reward_at:   24|Elapsed Time: 0:00:04||\n",
      "Episode 7|Iteration 145|reward: 1031.0|last_reward_at:   24|Elapsed Time: 0:00:04||\n",
      "Episode 7|Iteration 147|reward: 1031.0|last_reward_at:   24|Elapsed Time: 0:00:04||\n",
      "Episode 7|Iteration 148|reward: 1031.0|last_reward_at:   24|Elapsed Time: 0:00:04||\n",
      "Episode 7|Iteration 150|reward: 1031.0|last_reward_at:   24|Elapsed Time: 0:00:04||\n"
     ]
    },
    {
     "name": "stdout",
     "output_type": "stream",
     "text": [
      "  Episode 7 stopped at t=150 \n",
      "  Breakdown [Reward/NoReward (Success rate)]\n",
      "    explore-local: 0/41 (0.00)\n",
      "    explore-remote: 1/50 (0.02)\n",
      "    explore-connect: 0/55 (0.00)\n",
      "    exploit-local: 1/0 (1.00)\n",
      "    exploit-remote: 1/0 (1.00)\n",
      "    exploit-connect: 1/0 (1.00)\n",
      "  exploit deflected to exploration: 36\n",
      "  ## Episode: 8/10 'DQL' ϵ=0.7486, γ=0.015, lr=0.01, replaymemory=10000,\n",
      "batch=512, target_update=5\n"
     ]
    },
    {
     "name": "stderr",
     "output_type": "stream",
     "text": [
      "Episode 8|Iteration 0|reward: ------|last_reward_at: ----|Elapsed Time: 0:00:00||\n",
      "Episode 8|Iteration 1|reward:    0.0|last_reward_at: ----|Elapsed Time: 0:00:00||\n",
      "Episode 8|Iteration 2|reward:   11.0|last_reward_at: ----|Elapsed Time: 0:00:00||\n",
      "Episode 8|Iteration 2|reward:   11.0|last_reward_at:    2|Elapsed Time: 0:00:00||\n",
      "Episode 8|Iteration 4|reward:   22.0|last_reward_at:    2|Elapsed Time: 0:00:00||\n",
      "Episode 8|Iteration 4|reward:   22.0|last_reward_at:    4|Elapsed Time: 0:00:00||\n",
      "Episode 8|Iteration 8|reward:   22.0|last_reward_at:    4|Elapsed Time: 0:00:00||\n",
      "Episode 8|Iteration 9|reward:   31.0|last_reward_at:    4|Elapsed Time: 0:00:00||\n",
      "Episode 8|Iteration 9|reward:   31.0|last_reward_at:    9|Elapsed Time: 0:00:00||\n",
      "Episode 8|Iteration 12|reward:   31.0|last_reward_at:    9|Elapsed Time: 0:00:00||\n",
      "Episode 8|Iteration 14|reward:   31.0|last_reward_at:    9|Elapsed Time: 0:00:00||\n",
      "Episode 8|Iteration 16|reward:   31.0|last_reward_at:    9|Elapsed Time: 0:00:00||\n",
      "Episode 8|Iteration 18|reward:   31.0|last_reward_at:    9|Elapsed Time: 0:00:00||\n",
      "Episode 8|Iteration 21|reward:   31.0|last_reward_at:    9|Elapsed Time: 0:00:00||\n",
      "Episode 8|Iteration 21|reward: 1031.0|last_reward_at:    9|Elapsed Time: 0:00:00||\n",
      "Episode 8|Iteration 21|reward: 1031.0|last_reward_at:   21|Elapsed Time: 0:00:00||\n",
      "Episode 8|Iteration 23|reward: 1031.0|last_reward_at:   21|Elapsed Time: 0:00:00||\n",
      "Episode 8|Iteration 27|reward: 1031.0|last_reward_at:   21|Elapsed Time: 0:00:00||\n",
      "Episode 8|Iteration 28|reward: 1031.0|last_reward_at:   21|Elapsed Time: 0:00:00||\n",
      "Episode 8|Iteration 31|reward: 1031.0|last_reward_at:   21|Elapsed Time: 0:00:01||\n",
      "Episode 8|Iteration 35|reward: 1031.0|last_reward_at:   21|Elapsed Time: 0:00:01||\n",
      "Episode 8|Iteration 38|reward: 1031.0|last_reward_at:   21|Elapsed Time: 0:00:01||\n",
      "Episode 8|Iteration 40|reward: 1031.0|last_reward_at:   21|Elapsed Time: 0:00:01||\n",
      "Episode 8|Iteration 44|reward: 1031.0|last_reward_at:   21|Elapsed Time: 0:00:01||\n",
      "Episode 8|Iteration 46|reward: 1031.0|last_reward_at:   21|Elapsed Time: 0:00:01||\n",
      "Episode 8|Iteration 48|reward: 1031.0|last_reward_at:   21|Elapsed Time: 0:00:01||\n",
      "Episode 8|Iteration 50|reward: 1031.0|last_reward_at:   21|Elapsed Time: 0:00:01||\n",
      "Episode 8|Iteration 52|reward: 1031.0|last_reward_at:   21|Elapsed Time: 0:00:01||\n",
      "Episode 8|Iteration 54|reward: 1031.0|last_reward_at:   21|Elapsed Time: 0:00:01||\n",
      "Episode 8|Iteration 56|reward: 1031.0|last_reward_at:   21|Elapsed Time: 0:00:01||\n",
      "Episode 8|Iteration 58|reward: 1031.0|last_reward_at:   21|Elapsed Time: 0:00:01||\n",
      "Episode 8|Iteration 61|reward: 1031.0|last_reward_at:   21|Elapsed Time: 0:00:01||\n",
      "Episode 8|Iteration 65|reward: 1031.0|last_reward_at:   21|Elapsed Time: 0:00:02||\n",
      "Episode 8|Iteration 67|reward: 1031.0|last_reward_at:   21|Elapsed Time: 0:00:02||\n",
      "Episode 8|Iteration 71|reward: 1031.0|last_reward_at:   21|Elapsed Time: 0:00:02||\n",
      "Episode 8|Iteration 73|reward: 1031.0|last_reward_at:   21|Elapsed Time: 0:00:02||\n",
      "Episode 8|Iteration 75|reward: 1031.0|last_reward_at:   21|Elapsed Time: 0:00:02||\n",
      "Episode 8|Iteration 77|reward: 1031.0|last_reward_at:   21|Elapsed Time: 0:00:02||\n",
      "Episode 8|Iteration 80|reward: 1031.0|last_reward_at:   21|Elapsed Time: 0:00:02||\n",
      "Episode 8|Iteration 82|reward: 1031.0|last_reward_at:   21|Elapsed Time: 0:00:02||\n",
      "Episode 8|Iteration 84|reward: 1031.0|last_reward_at:   21|Elapsed Time: 0:00:02||\n",
      "Episode 8|Iteration 86|reward: 1031.0|last_reward_at:   21|Elapsed Time: 0:00:02||\n",
      "Episode 8|Iteration 88|reward: 1031.0|last_reward_at:   21|Elapsed Time: 0:00:02||\n",
      "Episode 8|Iteration 90|reward: 1031.0|last_reward_at:   21|Elapsed Time: 0:00:02||\n",
      "Episode 8|Iteration 92|reward: 1031.0|last_reward_at:   21|Elapsed Time: 0:00:02||\n",
      "Episode 8|Iteration 94|reward: 1031.0|last_reward_at:   21|Elapsed Time: 0:00:03||\n",
      "Episode 8|Iteration 97|reward: 1031.0|last_reward_at:   21|Elapsed Time: 0:00:03||\n",
      "Episode 8|Iteration 98|reward: 1031.0|last_reward_at:   21|Elapsed Time: 0:00:03||\n",
      "Episode 8|Iteration 101|reward: 1031.0|last_reward_at:   21|Elapsed Time: 0:00:03||\n",
      "Episode 8|Iteration 103|reward: 1031.0|last_reward_at:   21|Elapsed Time: 0:00:03||\n",
      "Episode 8|Iteration 104|reward: 1031.0|last_reward_at:   21|Elapsed Time: 0:00:03||\n",
      "Episode 8|Iteration 106|reward: 1031.0|last_reward_at:   21|Elapsed Time: 0:00:03||\n",
      "Episode 8|Iteration 109|reward: 1031.0|last_reward_at:   21|Elapsed Time: 0:00:03||\n",
      "Episode 8|Iteration 110|reward: 1031.0|last_reward_at:   21|Elapsed Time: 0:00:03||\n",
      "Episode 8|Iteration 113|reward: 1031.0|last_reward_at:   21|Elapsed Time: 0:00:03||\n",
      "Episode 8|Iteration 116|reward: 1031.0|last_reward_at:   21|Elapsed Time: 0:00:04||\n",
      "Episode 8|Iteration 118|reward: 1031.0|last_reward_at:   21|Elapsed Time: 0:00:04||\n",
      "Episode 8|Iteration 120|reward: 1031.0|last_reward_at:   21|Elapsed Time: 0:00:04||\n",
      "Episode 8|Iteration 124|reward: 1031.0|last_reward_at:   21|Elapsed Time: 0:00:04||\n",
      "Episode 8|Iteration 126|reward: 1031.0|last_reward_at:   21|Elapsed Time: 0:00:04||\n",
      "Episode 8|Iteration 128|reward: 1031.0|last_reward_at:   21|Elapsed Time: 0:00:04||\n",
      "Episode 8|Iteration 130|reward: 1031.0|last_reward_at:   21|Elapsed Time: 0:00:04||\n",
      "Episode 8|Iteration 133|reward: 1031.0|last_reward_at:   21|Elapsed Time: 0:00:04||\n",
      "Episode 8|Iteration 135|reward: 1031.0|last_reward_at:   21|Elapsed Time: 0:00:04||\n",
      "Episode 8|Iteration 137|reward: 1031.0|last_reward_at:   21|Elapsed Time: 0:00:04||\n",
      "Episode 8|Iteration 139|reward: 1031.0|last_reward_at:   21|Elapsed Time: 0:00:04||\n",
      "Episode 8|Iteration 141|reward: 1031.0|last_reward_at:   21|Elapsed Time: 0:00:04||\n",
      "Episode 8|Iteration 143|reward: 1031.0|last_reward_at:   21|Elapsed Time: 0:00:04||\n",
      "Episode 8|Iteration 145|reward: 1031.0|last_reward_at:   21|Elapsed Time: 0:00:04||\n",
      "Episode 8|Iteration 147|reward: 1031.0|last_reward_at:   21|Elapsed Time: 0:00:05||\n",
      "Episode 8|Iteration 149|reward: 1031.0|last_reward_at:   21|Elapsed Time: 0:00:05||\n",
      "Episode 8|Iteration 150|reward: 1031.0|last_reward_at:   21|Elapsed Time: 0:00:05||\n"
     ]
    },
    {
     "name": "stdout",
     "output_type": "stream",
     "text": [
      "  Episode 8 stopped at t=150 \n",
      "  Breakdown [Reward/NoReward (Success rate)]\n",
      "    explore-local: 1/34 (0.03)\n",
      "    explore-remote: 1/45 (0.02)\n",
      "    explore-connect: 0/49 (0.00)\n",
      "    exploit-local: 0/0 (NaN)\n",
      "    exploit-remote: 1/18 (0.05)\n",
      "    exploit-connect: 1/0 (1.00)\n",
      "  exploit deflected to exploration: 18\n",
      "  ## Episode: 9/10 'DQL' ϵ=0.7294, γ=0.015, lr=0.01, replaymemory=10000,\n",
      "batch=512, target_update=5\n"
     ]
    },
    {
     "name": "stderr",
     "output_type": "stream",
     "text": [
      "Episode 9|Iteration 0|reward: ------|last_reward_at: ----|Elapsed Time: 0:00:00||\n",
      "Episode 9|Iteration 1|reward:    0.0|last_reward_at: ----|Elapsed Time: 0:00:00||\n",
      "Episode 9|Iteration 2|reward:   11.0|last_reward_at: ----|Elapsed Time: 0:00:00||\n",
      "Episode 9|Iteration 2|reward:   11.0|last_reward_at:    2|Elapsed Time: 0:00:00||\n",
      "Episode 9|Iteration 4|reward:   22.0|last_reward_at:    2|Elapsed Time: 0:00:00||\n",
      "Episode 9|Iteration 4|reward:   22.0|last_reward_at:    4|Elapsed Time: 0:00:00||\n",
      "Episode 9|Iteration 8|reward:   22.0|last_reward_at:    4|Elapsed Time: 0:00:00||\n",
      "Episode 9|Iteration 10|reward:   22.0|last_reward_at:    4|Elapsed Time: 0:00:00||\n",
      "Episode 9|Iteration 10|reward:   31.0|last_reward_at:    4|Elapsed Time: 0:00:00||\n",
      "Episode 9|Iteration 10|reward:   31.0|last_reward_at:   10|Elapsed Time: 0:00:00||\n",
      "Episode 9|Iteration 13|reward: 1031.0|last_reward_at:   10|Elapsed Time: 0:00:00||\n",
      "Episode 9|Iteration 13|reward: 1031.0|last_reward_at:   13|Elapsed Time: 0:00:00||\n",
      "Episode 9|Iteration 16|reward: 1031.0|last_reward_at:   13|Elapsed Time: 0:00:00||\n",
      "Episode 9|Iteration 18|reward: 1031.0|last_reward_at:   13|Elapsed Time: 0:00:00||\n",
      "Episode 9|Iteration 20|reward: 1031.0|last_reward_at:   13|Elapsed Time: 0:00:00||\n",
      "Episode 9|Iteration 23|reward: 1031.0|last_reward_at:   13|Elapsed Time: 0:00:00||\n",
      "Episode 9|Iteration 25|reward: 1031.0|last_reward_at:   13|Elapsed Time: 0:00:00||\n",
      "Episode 9|Iteration 27|reward: 1031.0|last_reward_at:   13|Elapsed Time: 0:00:00||\n",
      "Episode 9|Iteration 29|reward: 1031.0|last_reward_at:   13|Elapsed Time: 0:00:00||\n",
      "Episode 9|Iteration 31|reward: 1031.0|last_reward_at:   13|Elapsed Time: 0:00:01||\n",
      "Episode 9|Iteration 33|reward: 1031.0|last_reward_at:   13|Elapsed Time: 0:00:01||\n",
      "Episode 9|Iteration 35|reward: 1031.0|last_reward_at:   13|Elapsed Time: 0:00:01||\n",
      "Episode 9|Iteration 35|reward: 1031.0|last_reward_at:   13|Elapsed Time: 0:00:01||\n",
      "Episode 9|Iteration 38|reward: 1031.0|last_reward_at:   13|Elapsed Time: 0:00:01||\n",
      "Episode 9|Iteration 40|reward: 1031.0|last_reward_at:   13|Elapsed Time: 0:00:01||\n",
      "Episode 9|Iteration 42|reward: 1031.0|last_reward_at:   13|Elapsed Time: 0:00:01||\n",
      "Episode 9|Iteration 43|reward: 1031.0|last_reward_at:   13|Elapsed Time: 0:00:01||\n",
      "Episode 9|Iteration 46|reward: 1031.0|last_reward_at:   13|Elapsed Time: 0:00:01||\n",
      "Episode 9|Iteration 48|reward: 1031.0|last_reward_at:   13|Elapsed Time: 0:00:01||\n",
      "Episode 9|Iteration 50|reward: 1031.0|last_reward_at:   13|Elapsed Time: 0:00:01||\n",
      "Episode 9|Iteration 52|reward: 1031.0|last_reward_at:   13|Elapsed Time: 0:00:01||\n",
      "Episode 9|Iteration 54|reward: 1031.0|last_reward_at:   13|Elapsed Time: 0:00:01||\n",
      "Episode 9|Iteration 56|reward: 1031.0|last_reward_at:   13|Elapsed Time: 0:00:02||\n",
      "Episode 9|Iteration 58|reward: 1031.0|last_reward_at:   13|Elapsed Time: 0:00:02||\n",
      "Episode 9|Iteration 61|reward: 1031.0|last_reward_at:   13|Elapsed Time: 0:00:02||\n",
      "Episode 9|Iteration 63|reward: 1031.0|last_reward_at:   13|Elapsed Time: 0:00:02||\n",
      "Episode 9|Iteration 65|reward: 1031.0|last_reward_at:   13|Elapsed Time: 0:00:02||\n",
      "Episode 9|Iteration 67|reward: 1031.0|last_reward_at:   13|Elapsed Time: 0:00:02||\n",
      "Episode 9|Iteration 69|reward: 1031.0|last_reward_at:   13|Elapsed Time: 0:00:02||\n",
      "Episode 9|Iteration 71|reward: 1031.0|last_reward_at:   13|Elapsed Time: 0:00:02||\n",
      "Episode 9|Iteration 73|reward: 1031.0|last_reward_at:   13|Elapsed Time: 0:00:02||\n",
      "Episode 9|Iteration 75|reward: 1031.0|last_reward_at:   13|Elapsed Time: 0:00:02||\n",
      "Episode 9|Iteration 76|reward: 1031.0|last_reward_at:   13|Elapsed Time: 0:00:02||\n",
      "Episode 9|Iteration 80|reward: 1031.0|last_reward_at:   13|Elapsed Time: 0:00:02||\n",
      "Episode 9|Iteration 82|reward: 1031.0|last_reward_at:   13|Elapsed Time: 0:00:02||\n",
      "Episode 9|Iteration 84|reward: 1031.0|last_reward_at:   13|Elapsed Time: 0:00:02||\n",
      "Episode 9|Iteration 88|reward: 1031.0|last_reward_at:   13|Elapsed Time: 0:00:03||\n",
      "Episode 9|Iteration 90|reward: 1031.0|last_reward_at:   13|Elapsed Time: 0:00:03||\n",
      "Episode 9|Iteration 92|reward: 1031.0|last_reward_at:   13|Elapsed Time: 0:00:03||\n",
      "Episode 9|Iteration 94|reward: 1031.0|last_reward_at:   13|Elapsed Time: 0:00:03||\n",
      "Episode 9|Iteration 96|reward: 1031.0|last_reward_at:   13|Elapsed Time: 0:00:03||\n",
      "Episode 9|Iteration 99|reward: 1031.0|last_reward_at:   13|Elapsed Time: 0:00:03||\n",
      "Episode 9|Iteration 101|reward: 1031.0|last_reward_at:   13|Elapsed Time: 0:00:03||\n",
      "Episode 9|Iteration 103|reward: 1031.0|last_reward_at:   13|Elapsed Time: 0:00:03||\n",
      "Episode 9|Iteration 105|reward: 1031.0|last_reward_at:   13|Elapsed Time: 0:00:03||\n",
      "Episode 9|Iteration 107|reward: 1031.0|last_reward_at:   13|Elapsed Time: 0:00:03||\n",
      "Episode 9|Iteration 109|reward: 1031.0|last_reward_at:   13|Elapsed Time: 0:00:03||\n",
      "Episode 9|Iteration 111|reward: 1031.0|last_reward_at:   13|Elapsed Time: 0:00:03||\n",
      "Episode 9|Iteration 113|reward: 1031.0|last_reward_at:   13|Elapsed Time: 0:00:03||\n",
      "Episode 9|Iteration 116|reward: 1031.0|last_reward_at:   13|Elapsed Time: 0:00:04||\n",
      "Episode 9|Iteration 118|reward: 1031.0|last_reward_at:   13|Elapsed Time: 0:00:04||\n",
      "Episode 9|Iteration 120|reward: 1031.0|last_reward_at:   13|Elapsed Time: 0:00:04||\n",
      "Episode 9|Iteration 122|reward: 1031.0|last_reward_at:   13|Elapsed Time: 0:00:04||\n",
      "Episode 9|Iteration 126|reward: 1031.0|last_reward_at:   13|Elapsed Time: 0:00:04||\n",
      "Episode 9|Iteration 128|reward: 1031.0|last_reward_at:   13|Elapsed Time: 0:00:04||\n",
      "Episode 9|Iteration 132|reward: 1031.0|last_reward_at:   13|Elapsed Time: 0:00:04||\n",
      "Episode 9|Iteration 135|reward: 1031.0|last_reward_at:   13|Elapsed Time: 0:00:04||\n",
      "Episode 9|Iteration 137|reward: 1031.0|last_reward_at:   13|Elapsed Time: 0:00:04||\n",
      "Episode 9|Iteration 139|reward: 1031.0|last_reward_at:   13|Elapsed Time: 0:00:04||\n",
      "Episode 9|Iteration 139|reward: 1031.0|last_reward_at:   13|Elapsed Time: 0:00:04||\n",
      "Episode 9|Iteration 143|reward: 1031.0|last_reward_at:   13|Elapsed Time: 0:00:04||\n",
      "Episode 9|Iteration 145|reward: 1031.0|last_reward_at:   13|Elapsed Time: 0:00:04||\n",
      "Episode 9|Iteration 149|reward: 1031.0|last_reward_at:   13|Elapsed Time: 0:00:05||\n",
      "Episode 9|Iteration 150|reward: 1031.0|last_reward_at:   13|Elapsed Time: 0:00:05||\n"
     ]
    },
    {
     "name": "stdout",
     "output_type": "stream",
     "text": [
      "  Episode 9 stopped at t=150 \n",
      "  Breakdown [Reward/NoReward (Success rate)]\n",
      "    explore-local: 0/24 (0.00)\n",
      "    explore-remote: 2/46 (0.04)\n",
      "    explore-connect: 0/41 (0.00)\n",
      "    exploit-local: 1/0 (1.00)\n",
      "    exploit-remote: 0/35 (0.00)\n",
      "    exploit-connect: 1/0 (1.00)\n",
      "  exploit deflected to exploration: 5\n",
      "  ## Episode: 10/10 'DQL' ϵ=0.7108, γ=0.015, lr=0.01, replaymemory=10000,\n",
      "batch=512, target_update=5\n"
     ]
    },
    {
     "name": "stderr",
     "output_type": "stream",
     "text": [
      "Episode 10|Iteration 0|reward: ------|last_reward_at: ----|Elapsed Time: 0:00:00||\n",
      "Episode 10|Iteration 1|reward:   11.0|last_reward_at: ----|Elapsed Time: 0:00:00||\n",
      "Episode 10|Iteration 1|reward:   11.0|last_reward_at:    1|Elapsed Time: 0:00:00||\n",
      "Episode 10|Iteration 3|reward:   22.0|last_reward_at:    1|Elapsed Time: 0:00:00||\n",
      "Episode 10|Iteration 3|reward:   22.0|last_reward_at:    3|Elapsed Time: 0:00:00||\n",
      "Episode 10|Iteration 5|reward:   22.0|last_reward_at:    3|Elapsed Time: 0:00:00||\n",
      "Episode 10|Iteration 8|reward:   22.0|last_reward_at:    3|Elapsed Time: 0:00:00||\n",
      "Episode 10|Iteration 10|reward:   22.0|last_reward_at:    3|Elapsed Time: 0:00:00||\n",
      "Episode 10|Iteration 12|reward:   22.0|last_reward_at:    3|Elapsed Time: 0:00:00||\n",
      "Episode 10|Iteration 12|reward:   31.0|last_reward_at:    3|Elapsed Time: 0:00:00||\n",
      "Episode 10|Iteration 12|reward:   31.0|last_reward_at:   12|Elapsed Time: 0:00:00||\n",
      "Episode 10|Iteration 16|reward:   31.0|last_reward_at:   12|Elapsed Time: 0:00:00||\n",
      "Episode 10|Iteration 18|reward:   31.0|last_reward_at:   12|Elapsed Time: 0:00:00||\n",
      "Episode 10|Iteration 20|reward:   31.0|last_reward_at:   12|Elapsed Time: 0:00:00||\n",
      "Episode 10|Iteration 23|reward:   31.0|last_reward_at:   12|Elapsed Time: 0:00:00||\n",
      "Episode 10|Iteration 25|reward:   31.0|last_reward_at:   12|Elapsed Time: 0:00:00||\n",
      "Episode 10|Iteration 26|reward: 1031.0|last_reward_at:   12|Elapsed Time: 0:00:00||\n",
      "Episode 10|Iteration 26|reward: 1031.0|last_reward_at:   26|Elapsed Time: 0:00:00||\n",
      "Episode 10|Iteration 29|reward: 1031.0|last_reward_at:   26|Elapsed Time: 0:00:00||\n",
      "Episode 10|Iteration 31|reward: 1031.0|last_reward_at:   26|Elapsed Time: 0:00:01||\n",
      "Episode 10|Iteration 33|reward: 1031.0|last_reward_at:   26|Elapsed Time: 0:00:01||\n",
      "Episode 10|Iteration 34|reward: 1031.0|last_reward_at:   26|Elapsed Time: 0:00:01||\n",
      "Episode 10|Iteration 37|reward: 1031.0|last_reward_at:   26|Elapsed Time: 0:00:01||\n",
      "Episode 10|Iteration 40|reward: 1031.0|last_reward_at:   26|Elapsed Time: 0:00:01||\n",
      "Episode 10|Iteration 41|reward: 1031.0|last_reward_at:   26|Elapsed Time: 0:00:01||\n",
      "Episode 10|Iteration 44|reward: 1031.0|last_reward_at:   26|Elapsed Time: 0:00:01||\n",
      "Episode 10|Iteration 46|reward: 1031.0|last_reward_at:   26|Elapsed Time: 0:00:01||\n",
      "Episode 10|Iteration 48|reward: 1031.0|last_reward_at:   26|Elapsed Time: 0:00:01||\n",
      "Episode 10|Iteration 50|reward: 1031.0|last_reward_at:   26|Elapsed Time: 0:00:01||\n",
      "Episode 10|Iteration 52|reward: 1031.0|last_reward_at:   26|Elapsed Time: 0:00:01||\n",
      "Episode 10|Iteration 54|reward: 1031.0|last_reward_at:   26|Elapsed Time: 0:00:01||\n",
      "Episode 10|Iteration 56|reward: 1031.0|last_reward_at:   26|Elapsed Time: 0:00:01||\n",
      "Episode 10|Iteration 59|reward: 1031.0|last_reward_at:   26|Elapsed Time: 0:00:02||\n",
      "Episode 10|Iteration 61|reward: 1031.0|last_reward_at:   26|Elapsed Time: 0:00:02||\n",
      "Episode 10|Iteration 63|reward: 1031.0|last_reward_at:   26|Elapsed Time: 0:00:02||\n",
      "Episode 10|Iteration 64|reward: 1031.0|last_reward_at:   26|Elapsed Time: 0:00:02||\n",
      "Episode 10|Iteration 69|reward: 1031.0|last_reward_at:   26|Elapsed Time: 0:00:02||\n",
      "Episode 10|Iteration 71|reward: 1031.0|last_reward_at:   26|Elapsed Time: 0:00:02||\n",
      "Episode 10|Iteration 72|reward: 1031.0|last_reward_at:   26|Elapsed Time: 0:00:02||\n",
      "Episode 10|Iteration 75|reward: 1031.0|last_reward_at:   26|Elapsed Time: 0:00:02||\n",
      "Episode 10|Iteration 78|reward: 1031.0|last_reward_at:   26|Elapsed Time: 0:00:02||\n",
      "Episode 10|Iteration 80|reward: 1031.0|last_reward_at:   26|Elapsed Time: 0:00:02||\n",
      "Episode 10|Iteration 82|reward: 1031.0|last_reward_at:   26|Elapsed Time: 0:00:02||\n",
      "Episode 10|Iteration 86|reward: 1031.0|last_reward_at:   26|Elapsed Time: 0:00:02||\n",
      "Episode 10|Iteration 88|reward: 1031.0|last_reward_at:   26|Elapsed Time: 0:00:02||\n",
      "Episode 10|Iteration 90|reward: 1031.0|last_reward_at:   26|Elapsed Time: 0:00:03||\n",
      "Episode 10|Iteration 91|reward: 1031.0|last_reward_at:   26|Elapsed Time: 0:00:03||\n",
      "Episode 10|Iteration 94|reward: 1031.0|last_reward_at:   26|Elapsed Time: 0:00:03||\n",
      "Episode 10|Iteration 96|reward: 1031.0|last_reward_at:   26|Elapsed Time: 0:00:03||\n",
      "Episode 10|Iteration 98|reward: 1031.0|last_reward_at:   26|Elapsed Time: 0:00:03||\n",
      "Episode 10|Iteration 101|reward: 1031.0|last_reward_at:   26|Elapsed Time: 0:00:03||\n",
      "Episode 10|Iteration 102|reward: 1031.0|last_reward_at:   26|Elapsed Time: 0:00:03||\n",
      "Episode 10|Iteration 105|reward: 1031.0|last_reward_at:   26|Elapsed Time: 0:00:03||\n",
      "Episode 10|Iteration 109|reward: 1031.0|last_reward_at:   26|Elapsed Time: 0:00:03||\n",
      "Episode 10|Iteration 111|reward: 1031.0|last_reward_at:   26|Elapsed Time: 0:00:03||\n",
      "Episode 10|Iteration 113|reward: 1031.0|last_reward_at:   26|Elapsed Time: 0:00:04||\n",
      "Episode 10|Iteration 115|reward: 1031.0|last_reward_at:   26|Elapsed Time: 0:00:04||\n",
      "Episode 10|Iteration 117|reward: 1031.0|last_reward_at:   26|Elapsed Time: 0:00:04||\n",
      "Episode 10|Iteration 120|reward: 1031.0|last_reward_at:   26|Elapsed Time: 0:00:04||\n",
      "Episode 10|Iteration 121|reward: 1031.0|last_reward_at:   26|Elapsed Time: 0:00:04||\n",
      "Episode 10|Iteration 124|reward: 1031.0|last_reward_at:   26|Elapsed Time: 0:00:04||\n",
      "Episode 10|Iteration 126|reward: 1031.0|last_reward_at:   26|Elapsed Time: 0:00:04||\n",
      "Episode 10|Iteration 128|reward: 1031.0|last_reward_at:   26|Elapsed Time: 0:00:04||\n",
      "Episode 10|Iteration 130|reward: 1031.0|last_reward_at:   26|Elapsed Time: 0:00:04||\n",
      "Episode 10|Iteration 132|reward: 1031.0|last_reward_at:   26|Elapsed Time: 0:00:04||\n",
      "Episode 10|Iteration 134|reward: 1031.0|last_reward_at:   26|Elapsed Time: 0:00:05||\n",
      "Episode 10|Iteration 137|reward: 1031.0|last_reward_at:   26|Elapsed Time: 0:00:05||\n",
      "Episode 10|Iteration 138|reward: 1031.0|last_reward_at:   26|Elapsed Time: 0:00:05||\n",
      "Episode 10|Iteration 141|reward: 1031.0|last_reward_at:   26|Elapsed Time: 0:00:05||\n",
      "Episode 10|Iteration 145|reward: 1031.0|last_reward_at:   26|Elapsed Time: 0:00:05||\n",
      "Episode 10|Iteration 149|reward: 1031.0|last_reward_at:   26|Elapsed Time: 0:00:05||\n",
      "Episode 10|Iteration 150|reward: 1031.0|last_reward_at:   26|Elapsed Time: 0:00:05||\n"
     ]
    },
    {
     "name": "stdout",
     "output_type": "stream",
     "text": [
      "  Episode 10 stopped at t=150 \n",
      "  Breakdown [Reward/NoReward (Success rate)]\n",
      "    explore-local: 0/26 (0.00)\n",
      "    explore-remote: 0/59 (0.00)\n",
      "    explore-connect: 1/38 (0.03)\n",
      "    exploit-local: 1/0 (1.00)\n",
      "    exploit-remote: 2/23 (0.08)\n",
      "    exploit-connect: 0/0 (NaN)\n",
      "  exploit deflected to exploration: 21\n",
      "simulation ended\n"
     ]
    }
   ],
   "source": [
    "# Evaluate the Deep Q-learning agent\n",
    "dqn_learning_run = learner.epsilon_greedy_search(\n",
    "    cyberbattle_gym_env=ctf_env,\n",
    "    environment_properties=ep,\n",
    "    learner=dqla.DeepQLearnerPolicy(\n",
    "        ep=ep,\n",
    "        gamma=0.015,\n",
    "        replay_memory_size=10000,\n",
    "        target_update=5,\n",
    "        batch_size=512,\n",
    "        learning_rate=0.01  # torch default learning rate is 1e-2\n",
    "    ),\n",
    "    episode_count=training_episode_count,\n",
    "    iteration_count=iteration_count,\n",
    "    epsilon=0.90,\n",
    "    epsilon_exponential_decay=5000,\n",
    "    epsilon_minimum=0.10,\n",
    "    verbosity=Verbosity.Quiet,\n",
    "    render=False,\n",
    "    plot_episodes_length=False,\n",
    "    title=\"DQL\"\n",
    ")"
   ]
  },
  {
   "cell_type": "code",
   "execution_count": 7,
   "id": "variable-designation",
   "metadata": {
    "execution": {
     "iopub.execute_input": "2021-09-06T20:23:21.083354Z",
     "iopub.status.busy": "2021-09-06T20:23:21.082755Z",
     "iopub.status.idle": "2021-09-06T20:23:21.084789Z",
     "shell.execute_reply": "2021-09-06T20:23:21.085330Z"
    },
    "papermill": {
     "duration": 0.081578,
     "end_time": "2021-09-06T20:23:21.085468",
     "exception": false,
     "start_time": "2021-09-06T20:23:21.003890",
     "status": "completed"
    },
    "tags": []
   },
   "outputs": [],
   "source": [
    "# initialize the environment\n",
    "\n",
    "current_o = ctf_env.reset()\n",
    "wrapped_env = AgentWrapper(ctf_env, ActionTrackingStateAugmentation(ep, current_o))\n",
    "l = dqn_learning_run['learner']"
   ]
  },
  {
   "cell_type": "code",
   "execution_count": 8,
   "id": "lucky-investigation",
   "metadata": {
    "execution": {
     "iopub.execute_input": "2021-09-06T20:23:21.243101Z",
     "iopub.status.busy": "2021-09-06T20:23:21.241219Z",
     "iopub.status.idle": "2021-09-06T20:23:21.265509Z",
     "shell.execute_reply": "2021-09-06T20:23:21.264944Z"
    },
    "papermill": {
     "duration": 0.104183,
     "end_time": "2021-09-06T20:23:21.265650",
     "exception": false,
     "start_time": "2021-09-06T20:23:21.161467",
     "status": "completed"
    },
    "tags": []
   },
   "outputs": [
    {
     "name": "stdout",
     "output_type": "stream",
     "text": [
      "(array([[0., 1., 0., 0., 0., 0.]]), {'local_vulnerability': array([0, 0])})\n",
      "(array([[0., 0., 1., 0., 0., 0., 0.],\n",
      "       [0., 0., 0., 0., 0., 0., 0.]]), None)\n",
      "len: 2\n"
     ]
    }
   ],
   "source": [
    "# Use the trained agent to run the steps one by one\n",
    "\n",
    "max_steps = 10\n",
    "\n",
    "# next action suggested by DQL agent\n",
    "h = []\n",
    "for i in range(max_steps):\n",
    "    # run the suggested action\n",
    "    _, next_action, _ = l.exploit(wrapped_env, current_o)\n",
    "    h.append((ctf_env.get_explored_network_node_properties_bitmap_as_numpy(current_o), next_action))\n",
    "    print(h[-1])\n",
    "    if next_action is None:\n",
    "        break\n",
    "    current_o, _, _, _ = wrapped_env.step(next_action)\n",
    "\n",
    "print(f'len: {len(h)}')"
   ]
  },
  {
   "cell_type": "code",
   "execution_count": 9,
   "id": "placed-commissioner",
   "metadata": {
    "execution": {
     "iopub.execute_input": "2021-09-06T20:23:21.423668Z",
     "iopub.status.busy": "2021-09-06T20:23:21.423071Z",
     "iopub.status.idle": "2021-09-06T20:23:21.768454Z",
     "shell.execute_reply": "2021-09-06T20:23:21.767934Z"
    },
    "papermill": {
     "duration": 0.427647,
     "end_time": "2021-09-06T20:23:21.768590",
     "exception": false,
     "start_time": "2021-09-06T20:23:21.340943",
     "status": "completed"
    },
    "tags": []
   },
   "outputs": [
    {
     "data": {
      "text/html": [
       "<div>\n",
       "<style scoped>\n",
       "    .dataframe tbody tr th:only-of-type {\n",
       "        vertical-align: middle;\n",
       "    }\n",
       "\n",
       "    .dataframe tbody tr th {\n",
       "        vertical-align: top;\n",
       "    }\n",
       "\n",
       "    .dataframe thead th {\n",
       "        text-align: right;\n",
       "    }\n",
       "</style>\n",
       "<table border=\"1\" class=\"dataframe\">\n",
       "  <thead>\n",
       "    <tr style=\"text-align: right;\">\n",
       "      <th></th>\n",
       "      <th>status</th>\n",
       "      <th>properties</th>\n",
       "      <th>local_attacks</th>\n",
       "      <th>remote_attacks</th>\n",
       "    </tr>\n",
       "    <tr>\n",
       "      <th>id</th>\n",
       "      <th></th>\n",
       "      <th></th>\n",
       "      <th></th>\n",
       "      <th></th>\n",
       "    </tr>\n",
       "  </thead>\n",
       "  <tbody>\n",
       "    <tr>\n",
       "      <th>client</th>\n",
       "      <td>owned</td>\n",
       "      <td>[CLIENT:Win10]</td>\n",
       "      <td>[SearchEdgeHistory]</td>\n",
       "      <td>[]</td>\n",
       "    </tr>\n",
       "    <tr>\n",
       "      <th>Website</th>\n",
       "      <td>discovered</td>\n",
       "      <td>NaN</td>\n",
       "      <td>None</td>\n",
       "      <td>[ScanPageSource]</td>\n",
       "    </tr>\n",
       "  </tbody>\n",
       "</table>\n",
       "</div>"
      ],
      "text/plain": [
       "             status      properties        local_attacks    remote_attacks\n",
       "id                                                                        \n",
       "client        owned  [CLIENT:Win10]  [SearchEdgeHistory]                []\n",
       "Website  discovered             NaN                 None  [ScanPageSource]"
      ]
     },
     "metadata": {},
     "output_type": "display_data"
    },
    {
     "ename": "ValueError",
     "evalue": "Mime type rendering requires nbformat>=4.2.0 but it is not installed",
     "output_type": "error",
     "traceback": [
      "\u001b[0;31m---------------------------------------------------------------------------\u001b[0m",
      "\u001b[0;31mValueError\u001b[0m                                Traceback (most recent call last)",
      "Cell \u001b[0;32mIn[9], line 1\u001b[0m\n\u001b[0;32m----> 1\u001b[0m ctf_env\u001b[39m.\u001b[39;49mrender()\n",
      "File \u001b[0;32m~/miniconda3/envs/cybersim/lib/python3.9/site-packages/gym/core.py:295\u001b[0m, in \u001b[0;36mWrapper.render\u001b[0;34m(self, mode, **kwargs)\u001b[0m\n\u001b[1;32m    294\u001b[0m \u001b[39mdef\u001b[39;00m \u001b[39mrender\u001b[39m(\u001b[39mself\u001b[39m, mode\u001b[39m=\u001b[39m\u001b[39m\"\u001b[39m\u001b[39mhuman\u001b[39m\u001b[39m\"\u001b[39m, \u001b[39m*\u001b[39m\u001b[39m*\u001b[39mkwargs):\n\u001b[0;32m--> 295\u001b[0m     \u001b[39mreturn\u001b[39;00m \u001b[39mself\u001b[39;49m\u001b[39m.\u001b[39;49menv\u001b[39m.\u001b[39;49mrender(mode, \u001b[39m*\u001b[39;49m\u001b[39m*\u001b[39;49mkwargs)\n",
      "File \u001b[0;32m~/Documents/projects/CyberBattleSim/cyberbattle/_env/cyberbattle_env.py:1163\u001b[0m, in \u001b[0;36mCyberBattleEnv.render\u001b[0;34m(self, mode)\u001b[0m\n\u001b[1;32m   1161\u001b[0m \u001b[39mdef\u001b[39;00m \u001b[39mrender\u001b[39m(\u001b[39mself\u001b[39m, mode: \u001b[39mstr\u001b[39m \u001b[39m=\u001b[39m \u001b[39m'\u001b[39m\u001b[39mhuman\u001b[39m\u001b[39m'\u001b[39m) \u001b[39m-\u001b[39m\u001b[39m>\u001b[39m \u001b[39mNone\u001b[39;00m:\n\u001b[1;32m   1162\u001b[0m     fig \u001b[39m=\u001b[39m \u001b[39mself\u001b[39m\u001b[39m.\u001b[39mrender_as_fig()\n\u001b[0;32m-> 1163\u001b[0m     fig\u001b[39m.\u001b[39;49mshow(renderer\u001b[39m=\u001b[39;49m\u001b[39mself\u001b[39;49m\u001b[39m.\u001b[39;49m__renderer)\n",
      "File \u001b[0;32m~/miniconda3/envs/cybersim/lib/python3.9/site-packages/plotly/basedatatypes.py:2871\u001b[0m, in \u001b[0;36mBaseFigure.show\u001b[0;34m(self, *args, **kwargs)\u001b[0m\n\u001b[1;32m   2850\u001b[0m \u001b[39m\u001b[39m\u001b[39m\"\"\"\u001b[39;00m\n\u001b[1;32m   2851\u001b[0m \u001b[39mShow a figure using either the default renderer(s) or the renderer(s)\u001b[39;00m\n\u001b[1;32m   2852\u001b[0m \u001b[39mspecified by the renderer argument\u001b[39;00m\n\u001b[0;32m   (...)\u001b[0m\n\u001b[1;32m   2867\u001b[0m \u001b[39mNone\u001b[39;00m\n\u001b[1;32m   2868\u001b[0m \u001b[39m\"\"\"\u001b[39;00m\n\u001b[1;32m   2869\u001b[0m \u001b[39mimport\u001b[39;00m \u001b[39mplotly\u001b[39;00m\u001b[39m.\u001b[39;00m\u001b[39mio\u001b[39;00m \u001b[39mas\u001b[39;00m \u001b[39mpio\u001b[39;00m\n\u001b[0;32m-> 2871\u001b[0m \u001b[39mreturn\u001b[39;00m pio\u001b[39m.\u001b[39;49mshow(\u001b[39mself\u001b[39;49m, \u001b[39m*\u001b[39;49margs, \u001b[39m*\u001b[39;49m\u001b[39m*\u001b[39;49mkwargs)\n",
      "File \u001b[0;32m~/miniconda3/envs/cybersim/lib/python3.9/site-packages/plotly/io/_renderers.py:385\u001b[0m, in \u001b[0;36mshow\u001b[0;34m(fig, renderer, validate, **kwargs)\u001b[0m\n\u001b[1;32m    380\u001b[0m         \u001b[39mraise\u001b[39;00m \u001b[39mValueError\u001b[39;00m(\n\u001b[1;32m    381\u001b[0m             \u001b[39m\"\u001b[39m\u001b[39mMime type rendering requires ipython but it is not installed\u001b[39m\u001b[39m\"\u001b[39m\n\u001b[1;32m    382\u001b[0m         )\n\u001b[1;32m    384\u001b[0m     \u001b[39mif\u001b[39;00m \u001b[39mnot\u001b[39;00m nbformat \u001b[39mor\u001b[39;00m LooseVersion(nbformat\u001b[39m.\u001b[39m__version__) \u001b[39m<\u001b[39m LooseVersion(\u001b[39m\"\u001b[39m\u001b[39m4.2.0\u001b[39m\u001b[39m\"\u001b[39m):\n\u001b[0;32m--> 385\u001b[0m         \u001b[39mraise\u001b[39;00m \u001b[39mValueError\u001b[39;00m(\n\u001b[1;32m    386\u001b[0m             \u001b[39m\"\u001b[39m\u001b[39mMime type rendering requires nbformat>=4.2.0 but it is not installed\u001b[39m\u001b[39m\"\u001b[39m\n\u001b[1;32m    387\u001b[0m         )\n\u001b[1;32m    389\u001b[0m     ipython_display\u001b[39m.\u001b[39mdisplay(bundle, raw\u001b[39m=\u001b[39m\u001b[39mTrue\u001b[39;00m)\n\u001b[1;32m    391\u001b[0m \u001b[39m# external renderers\u001b[39;00m\n",
      "\u001b[0;31mValueError\u001b[0m: Mime type rendering requires nbformat>=4.2.0 but it is not installed"
     ]
    }
   ],
   "source": [
    "ctf_env.render()"
   ]
  }
 ],
 "metadata": {
  "jupytext": {
   "cell_metadata_filter": "tags,title,-all",
   "cell_metadata_json": true
  },
  "kernelspec": {
   "display_name": "Python 3.9.18",
   "language": "python",
   "name": "python3"
  },
  "language_info": {
   "codemirror_mode": {
    "name": "ipython",
    "version": 3
   },
   "file_extension": ".py",
   "mimetype": "text/x-python",
   "name": "python",
   "nbconvert_exporter": "python",
   "pygments_lexer": "ipython3",
   "version": "3.9.18"
  },
  "papermill": {
   "default_parameters": {},
   "duration": 17.284898,
   "end_time": "2021-09-06T20:23:23.405747",
   "environment_variables": {},
   "exception": null,
   "input_path": "-",
   "output_path": "output/notebook_dql_debug_tiny.ipynb",
   "parameters": {
    "gymid": "CyberBattleTiny-v0",
    "iteration_count": 150
   },
   "start_time": "2021-09-06T20:23:06.120849",
   "version": "2.3.3"
  },
  "vscode": {
   "interpreter": {
    "hash": "5f742c261b96c8b3cf5c99a3df65ca7b6f6928b5e4648bbbd140924f2909fdea"
   }
  }
 },
 "nbformat": 4,
 "nbformat_minor": 5
}
